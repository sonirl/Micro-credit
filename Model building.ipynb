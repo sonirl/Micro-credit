{
 "cells": [
  {
   "cell_type": "code",
   "execution_count": 1,
   "metadata": {},
   "outputs": [],
   "source": [
    "import pandas as pd\n",
    "import numpy as np\n",
    "pd.set_option('display.max_rows',None)\n",
    "pd.set_option('display.max_columns',None)\n",
    "import matplotlib.pyplot as plt\n",
    "import warnings\n",
    "warnings.filterwarnings('ignore')"
   ]
  },
  {
   "cell_type": "code",
   "execution_count": 2,
   "metadata": {},
   "outputs": [
    {
     "data": {
      "text/html": [
       "<div>\n",
       "<style scoped>\n",
       "    .dataframe tbody tr th:only-of-type {\n",
       "        vertical-align: middle;\n",
       "    }\n",
       "\n",
       "    .dataframe tbody tr th {\n",
       "        vertical-align: top;\n",
       "    }\n",
       "\n",
       "    .dataframe thead th {\n",
       "        text-align: right;\n",
       "    }\n",
       "</style>\n",
       "<table border=\"1\" class=\"dataframe\">\n",
       "  <thead>\n",
       "    <tr style=\"text-align: right;\">\n",
       "      <th></th>\n",
       "      <th>Unnamed: 0</th>\n",
       "      <th>label</th>\n",
       "      <th>aon</th>\n",
       "      <th>daily_decr90</th>\n",
       "      <th>rental90</th>\n",
       "      <th>last_rech_date_ma</th>\n",
       "      <th>last_rech_amt_ma</th>\n",
       "      <th>fr_ma_rech30</th>\n",
       "      <th>sumamnt_ma_rech30</th>\n",
       "      <th>medianamnt_ma_rech30</th>\n",
       "      <th>medianmarechprebal30</th>\n",
       "      <th>cnt_ma_rech90</th>\n",
       "      <th>fr_ma_rech90</th>\n",
       "      <th>sumamnt_ma_rech90</th>\n",
       "      <th>medianamnt_ma_rech90</th>\n",
       "      <th>medianmarechprebal90</th>\n",
       "      <th>amnt_loans90</th>\n",
       "      <th>maxamnt_loans90</th>\n",
       "      <th>medianamnt_loans90</th>\n",
       "      <th>payback30</th>\n",
       "      <th>payback90</th>\n",
       "      <th>month</th>\n",
       "    </tr>\n",
       "  </thead>\n",
       "  <tbody>\n",
       "    <tr>\n",
       "      <th>0</th>\n",
       "      <td>0</td>\n",
       "      <td>0</td>\n",
       "      <td>5.613128</td>\n",
       "      <td>8.028504</td>\n",
       "      <td>260.13</td>\n",
       "      <td>1.386294</td>\n",
       "      <td>1539.0</td>\n",
       "      <td>3.135494</td>\n",
       "      <td>3078.0</td>\n",
       "      <td>1539.0</td>\n",
       "      <td>7.50</td>\n",
       "      <td>1.386294</td>\n",
       "      <td>3.135494</td>\n",
       "      <td>3078.0</td>\n",
       "      <td>1539.0</td>\n",
       "      <td>7.50</td>\n",
       "      <td>2.639057</td>\n",
       "      <td>6.0</td>\n",
       "      <td>0.0</td>\n",
       "      <td>2.431418</td>\n",
       "      <td>2.583998</td>\n",
       "      <td>7</td>\n",
       "    </tr>\n",
       "    <tr>\n",
       "      <th>1</th>\n",
       "      <td>1</td>\n",
       "      <td>1</td>\n",
       "      <td>6.570883</td>\n",
       "      <td>9.403169</td>\n",
       "      <td>3691.26</td>\n",
       "      <td>2.890372</td>\n",
       "      <td>4617.5</td>\n",
       "      <td>0.693147</td>\n",
       "      <td>5787.0</td>\n",
       "      <td>3655.0</td>\n",
       "      <td>61.04</td>\n",
       "      <td>1.098612</td>\n",
       "      <td>0.693147</td>\n",
       "      <td>5787.0</td>\n",
       "      <td>3650.5</td>\n",
       "      <td>61.04</td>\n",
       "      <td>2.639057</td>\n",
       "      <td>12.0</td>\n",
       "      <td>0.0</td>\n",
       "      <td>0.693147</td>\n",
       "      <td>0.693147</td>\n",
       "      <td>8</td>\n",
       "    </tr>\n",
       "    <tr>\n",
       "      <th>2</th>\n",
       "      <td>2</td>\n",
       "      <td>1</td>\n",
       "      <td>6.285998</td>\n",
       "      <td>7.244228</td>\n",
       "      <td>900.13</td>\n",
       "      <td>1.609438</td>\n",
       "      <td>1539.0</td>\n",
       "      <td>0.693147</td>\n",
       "      <td>1539.0</td>\n",
       "      <td>1539.0</td>\n",
       "      <td>66.32</td>\n",
       "      <td>1.098612</td>\n",
       "      <td>0.693147</td>\n",
       "      <td>1539.0</td>\n",
       "      <td>1539.0</td>\n",
       "      <td>66.32</td>\n",
       "      <td>2.079442</td>\n",
       "      <td>6.0</td>\n",
       "      <td>0.0</td>\n",
       "      <td>0.693147</td>\n",
       "      <td>0.693147</td>\n",
       "      <td>8</td>\n",
       "    </tr>\n",
       "    <tr>\n",
       "      <th>3</th>\n",
       "      <td>3</td>\n",
       "      <td>1</td>\n",
       "      <td>5.493061</td>\n",
       "      <td>3.145358</td>\n",
       "      <td>159.42</td>\n",
       "      <td>2.890372</td>\n",
       "      <td>947.0</td>\n",
       "      <td>0.693147</td>\n",
       "      <td>0.0</td>\n",
       "      <td>0.0</td>\n",
       "      <td>0.00</td>\n",
       "      <td>1.098612</td>\n",
       "      <td>0.693147</td>\n",
       "      <td>947.0</td>\n",
       "      <td>947.0</td>\n",
       "      <td>2.50</td>\n",
       "      <td>2.639057</td>\n",
       "      <td>6.0</td>\n",
       "      <td>0.0</td>\n",
       "      <td>0.693147</td>\n",
       "      <td>0.693147</td>\n",
       "      <td>6</td>\n",
       "    </tr>\n",
       "    <tr>\n",
       "      <th>4</th>\n",
       "      <td>4</td>\n",
       "      <td>1</td>\n",
       "      <td>6.855409</td>\n",
       "      <td>5.027947</td>\n",
       "      <td>1098.90</td>\n",
       "      <td>1.791759</td>\n",
       "      <td>2309.0</td>\n",
       "      <td>1.386294</td>\n",
       "      <td>20029.0</td>\n",
       "      <td>2309.0</td>\n",
       "      <td>29.00</td>\n",
       "      <td>2.302585</td>\n",
       "      <td>1.386294</td>\n",
       "      <td>23496.0</td>\n",
       "      <td>2888.0</td>\n",
       "      <td>35.00</td>\n",
       "      <td>3.784190</td>\n",
       "      <td>6.0</td>\n",
       "      <td>0.0</td>\n",
       "      <td>1.466337</td>\n",
       "      <td>1.466337</td>\n",
       "      <td>6</td>\n",
       "    </tr>\n",
       "  </tbody>\n",
       "</table>\n",
       "</div>"
      ],
      "text/plain": [
       "   Unnamed: 0  label       aon  daily_decr90  rental90  last_rech_date_ma  \\\n",
       "0           0      0  5.613128      8.028504    260.13           1.386294   \n",
       "1           1      1  6.570883      9.403169   3691.26           2.890372   \n",
       "2           2      1  6.285998      7.244228    900.13           1.609438   \n",
       "3           3      1  5.493061      3.145358    159.42           2.890372   \n",
       "4           4      1  6.855409      5.027947   1098.90           1.791759   \n",
       "\n",
       "   last_rech_amt_ma  fr_ma_rech30  sumamnt_ma_rech30  medianamnt_ma_rech30  \\\n",
       "0            1539.0      3.135494             3078.0                1539.0   \n",
       "1            4617.5      0.693147             5787.0                3655.0   \n",
       "2            1539.0      0.693147             1539.0                1539.0   \n",
       "3             947.0      0.693147                0.0                   0.0   \n",
       "4            2309.0      1.386294            20029.0                2309.0   \n",
       "\n",
       "   medianmarechprebal30  cnt_ma_rech90  fr_ma_rech90  sumamnt_ma_rech90  \\\n",
       "0                  7.50       1.386294      3.135494             3078.0   \n",
       "1                 61.04       1.098612      0.693147             5787.0   \n",
       "2                 66.32       1.098612      0.693147             1539.0   \n",
       "3                  0.00       1.098612      0.693147              947.0   \n",
       "4                 29.00       2.302585      1.386294            23496.0   \n",
       "\n",
       "   medianamnt_ma_rech90  medianmarechprebal90  amnt_loans90  maxamnt_loans90  \\\n",
       "0                1539.0                  7.50      2.639057              6.0   \n",
       "1                3650.5                 61.04      2.639057             12.0   \n",
       "2                1539.0                 66.32      2.079442              6.0   \n",
       "3                 947.0                  2.50      2.639057              6.0   \n",
       "4                2888.0                 35.00      3.784190              6.0   \n",
       "\n",
       "   medianamnt_loans90  payback30  payback90  month  \n",
       "0                 0.0   2.431418   2.583998      7  \n",
       "1                 0.0   0.693147   0.693147      8  \n",
       "2                 0.0   0.693147   0.693147      8  \n",
       "3                 0.0   0.693147   0.693147      6  \n",
       "4                 0.0   1.466337   1.466337      6  "
      ]
     },
     "execution_count": 2,
     "metadata": {},
     "output_type": "execute_result"
    }
   ],
   "source": [
    "data = pd.read_csv('new_data.csv')\n",
    "data.head()"
   ]
  },
  {
   "cell_type": "code",
   "execution_count": 3,
   "metadata": {},
   "outputs": [],
   "source": [
    "data.drop('Unnamed: 0',axis=1,inplace=True)"
   ]
  },
  {
   "cell_type": "code",
   "execution_count": null,
   "metadata": {},
   "outputs": [],
   "source": []
  },
  {
   "cell_type": "code",
   "execution_count": 4,
   "metadata": {},
   "outputs": [],
   "source": [
    "#SPLITTING DATA INTO INPUT AND OUTPUT\n",
    "X = data.drop('label',axis=1)\n",
    "y= data['label']"
   ]
  },
  {
   "cell_type": "code",
   "execution_count": 5,
   "metadata": {},
   "outputs": [],
   "source": [
    "#scaling the inputs\n",
    "from sklearn.preprocessing import StandardScaler\n",
    "sc = StandardScaler()\n",
    "X_sc = sc.fit_transform(X)\n",
    "X_sc = pd.DataFrame(X_sc)"
   ]
  },
  {
   "cell_type": "markdown",
   "metadata": {},
   "source": [
    "# LOGISTIC REGRESSION"
   ]
  },
  {
   "cell_type": "code",
   "execution_count": 6,
   "metadata": {},
   "outputs": [],
   "source": [
    "from sklearn.linear_model import LogisticRegression\n",
    "from sklearn.model_selection import train_test_split,GridSearchCV,KFold,cross_val_score\n",
    "from imblearn.over_sampling import RandomOverSampler\n",
    "from sklearn.metrics import accuracy_score,confusion_matrix,classification_report"
   ]
  },
  {
   "cell_type": "code",
   "execution_count": 7,
   "metadata": {},
   "outputs": [],
   "source": [
    "X_train,X_test,y_train,y_test = train_test_split(X,y,test_size=.33,random_state=1)\n",
    "X_train_sc,X_test_sc,y_train,y_test = train_test_split(X_sc,y,test_size=.33,random_state=1)"
   ]
  },
  {
   "cell_type": "markdown",
   "metadata": {},
   "source": [
    "#### IMP NOTE = Our data is highly imbalanced, so accuracy score will not be our main performance metrics to evaluate, as it will surely gives us better accuracy score due to the biasness of class value 1. And cross val score will also show the biased results due to the imbalanced data. Our major focus will be on percision score , recall score and f1 score."
   ]
  },
  {
   "cell_type": "code",
   "execution_count": 8,
   "metadata": {},
   "outputs": [],
   "source": [
    "log_class1 = LogisticRegression()"
   ]
  },
  {
   "cell_type": "markdown",
   "metadata": {},
   "source": [
    "#### applying hyper parameter tuning"
   ]
  },
  {
   "cell_type": "code",
   "execution_count": 9,
   "metadata": {},
   "outputs": [],
   "source": [
    "grid_param = {'C':10.0**np.arange(-3,3),'penalty':['l1','l2']}\n",
    "cv = KFold(n_splits=5,shuffle=False,random_state=None)"
   ]
  },
  {
   "cell_type": "code",
   "execution_count": 10,
   "metadata": {},
   "outputs": [],
   "source": [
    "clf = GridSearchCV(log_class1,grid_param,cv=cv,n_jobs=-1,scoring='f1_macro')"
   ]
  },
  {
   "cell_type": "code",
   "execution_count": 11,
   "metadata": {},
   "outputs": [
    {
     "data": {
      "text/plain": [
       "GridSearchCV(cv=KFold(n_splits=5, random_state=None, shuffle=False),\n",
       "             estimator=LogisticRegression(), n_jobs=-1,\n",
       "             param_grid={'C': array([1.e-03, 1.e-02, 1.e-01, 1.e+00, 1.e+01, 1.e+02]),\n",
       "                         'penalty': ['l1', 'l2']},\n",
       "             scoring='f1_macro')"
      ]
     },
     "execution_count": 11,
     "metadata": {},
     "output_type": "execute_result"
    }
   ],
   "source": [
    "#training \n",
    "clf.fit(X_train,y_train)"
   ]
  },
  {
   "cell_type": "code",
   "execution_count": 12,
   "metadata": {},
   "outputs": [
    {
     "data": {
      "text/plain": [
       "{'C': 0.1, 'penalty': 'l2'}"
      ]
     },
     "execution_count": 12,
     "metadata": {},
     "output_type": "execute_result"
    }
   ],
   "source": [
    "clf.best_params_"
   ]
  },
  {
   "cell_type": "code",
   "execution_count": 13,
   "metadata": {},
   "outputs": [
    {
     "name": "stdout",
     "output_type": "stream",
     "text": [
      "confision metris : \n",
      " [[   29  8554]\n",
      " [   30 60553]]\n",
      "classification report  \n",
      "               precision    recall  f1-score   support\n",
      "\n",
      "           0       0.49      0.00      0.01      8583\n",
      "           1       0.88      1.00      0.93     60583\n",
      "\n",
      "    accuracy                           0.88     69166\n",
      "   macro avg       0.68      0.50      0.47     69166\n",
      "weighted avg       0.83      0.88      0.82     69166\n",
      "\n",
      "accuracy score:  \n",
      " 0.8758927796894428\n"
     ]
    }
   ],
   "source": [
    "#1st model \n",
    "log_class1 = LogisticRegression(penalty='l2',C=0.1)\n",
    "\n",
    "training1 = log_class1.fit(X_train,y_train)\n",
    "pred1 = log_class1.predict(X_test)\n",
    "CM1 = confusion_matrix(y_test,pred1)\n",
    "CR1 = classification_report(y_test,pred1)\n",
    "acc1 = accuracy_score(y_test,pred1)\n",
    "\n",
    "print('confision metris :', '\\n', CM1)\n",
    "print('classification report ', '\\n', CR1)\n",
    "print('accuracy score: ', '\\n' , acc1)"
   ]
  },
  {
   "cell_type": "markdown",
   "metadata": {},
   "source": [
    "#### Logistic regression is giving us completely biased redults, we will try with scaled values if the results get better or not"
   ]
  },
  {
   "cell_type": "code",
   "execution_count": 14,
   "metadata": {},
   "outputs": [
    {
     "data": {
      "text/plain": [
       "{'C': 1.0, 'penalty': 'l2'}"
      ]
     },
     "execution_count": 14,
     "metadata": {},
     "output_type": "execute_result"
    }
   ],
   "source": [
    "clf.fit(X_train_sc,y_train)\n",
    "clf.best_params_"
   ]
  },
  {
   "cell_type": "code",
   "execution_count": 15,
   "metadata": {
    "scrolled": true
   },
   "outputs": [
    {
     "name": "stdout",
     "output_type": "stream",
     "text": [
      "confision metris : \n",
      " [[ 1454  7129]\n",
      " [  867 59716]]\n",
      "classification report  \n",
      "               precision    recall  f1-score   support\n",
      "\n",
      "           0       0.63      0.17      0.27      8583\n",
      "           1       0.89      0.99      0.94     60583\n",
      "\n",
      "    accuracy                           0.88     69166\n",
      "   macro avg       0.76      0.58      0.60     69166\n",
      "weighted avg       0.86      0.88      0.85     69166\n",
      "\n",
      "accuracy score:  \n",
      " 0.8843940664488332\n"
     ]
    }
   ],
   "source": [
    "#2st model \n",
    "log_class2 = LogisticRegression(C=1.0,penalty='l2')\n",
    "training2 = log_class2.fit(X_train_sc,y_train)\n",
    "pred2 = log_class2.predict(X_test_sc)\n",
    "CM2 = confusion_matrix(y_test,pred2)\n",
    "CR2 = classification_report(y_test,pred2)\n",
    "acc2 = accuracy_score(y_test,pred2)\n",
    "\n",
    "print('confision metris :', '\\n', CM2)\n",
    "print('classification report ', '\\n', CR2)\n",
    "print('accuracy score: ', '\\n' , acc2)"
   ]
  },
  {
   "cell_type": "markdown",
   "metadata": {},
   "source": [
    "#### with scaled value we can see that the model performance is increasing,  F1 score for class 0 increased from 1% to 27%"
   ]
  },
  {
   "cell_type": "markdown",
   "metadata": {},
   "source": [
    "### now lets try building a model using sampling technique"
   ]
  },
  {
   "cell_type": "code",
   "execution_count": 16,
   "metadata": {},
   "outputs": [],
   "source": [
    "from imblearn.over_sampling import RandomOverSampler"
   ]
  },
  {
   "cell_type": "code",
   "execution_count": 17,
   "metadata": {},
   "outputs": [
    {
     "data": {
      "text/plain": [
       "Counter({1: 122848, 0: 17579})"
      ]
     },
     "execution_count": 17,
     "metadata": {},
     "output_type": "execute_result"
    }
   ],
   "source": [
    "from collections import Counter\n",
    "Counter(y_train)"
   ]
  },
  {
   "cell_type": "code",
   "execution_count": 18,
   "metadata": {},
   "outputs": [
    {
     "name": "stdout",
     "output_type": "stream",
     "text": [
      " the number of classes before samplingCounter({1: 122848, 0: 17579})\n",
      " the number of classes after samplingCounter({1: 122848, 0: 49139})\n"
     ]
    }
   ],
   "source": [
    "os = RandomOverSampler(.4)\n",
    "X_train_sc_os,y_train_os = os.fit_sample(X_train_sc,y_train)\n",
    "print(' the number of classes before sampling{}'.format(Counter(y_train)))\n",
    "print(' the number of classes after sampling{}'.format(Counter(y_train_os)))"
   ]
  },
  {
   "cell_type": "code",
   "execution_count": 19,
   "metadata": {},
   "outputs": [
    {
     "name": "stdout",
     "output_type": "stream",
     "text": [
      "confision metris : \n",
      " [[ 5119  3464]\n",
      " [ 7003 53580]]\n",
      "classification report  \n",
      "               precision    recall  f1-score   support\n",
      "\n",
      "           0       0.42      0.60      0.49      8583\n",
      "           1       0.94      0.88      0.91     60583\n",
      "\n",
      "    accuracy                           0.85     69166\n",
      "   macro avg       0.68      0.74      0.70     69166\n",
      "weighted avg       0.88      0.85      0.86     69166\n",
      "\n",
      "accuracy score:  \n",
      " 0.8486684209004424\n"
     ]
    }
   ],
   "source": [
    "training3 = log_class2.fit(X_train_sc_os,y_train_os)\n",
    "pred3 = log_class2.predict(X_test_sc)\n",
    "CM3 = confusion_matrix(y_test,pred3)\n",
    "CR3 = classification_report(y_test,pred3)\n",
    "acc3 = accuracy_score(y_test,pred3)\n",
    "\n",
    "print('confision metris :', '\\n', CM3)\n",
    "print('classification report ', '\\n', CR3)\n",
    "print('accuracy score: ', '\\n' , acc3)"
   ]
  },
  {
   "cell_type": "markdown",
   "metadata": {},
   "source": [
    "#### with scaled values and over sampling technique we are able to increase the F1 score of class 0, however thier is a decrease in the F1 score of class0. But Looking at the model performance we are getting better results with over sampling technique"
   ]
  },
  {
   "cell_type": "markdown",
   "metadata": {},
   "source": [
    "### building aoc_roc curve"
   ]
  },
  {
   "cell_type": "code",
   "execution_count": 20,
   "metadata": {},
   "outputs": [],
   "source": [
    "from sklearn.metrics import roc_auc_score,roc_curve\n",
    "y_pred_prob = log_class2.predict_proba(X_test_sc)"
   ]
  },
  {
   "cell_type": "code",
   "execution_count": 21,
   "metadata": {},
   "outputs": [],
   "source": [
    "#fpr = false positive rate\n",
    "#tpr = true positive rate\n",
    "#thresholds we set\n",
    "\n",
    "fpr,tpr,thresholds = roc_curve(y_test,y_pred_prob[:,1])\n",
    "roc_auc = roc_auc_score(y_test,y_pred_prob[:,1])"
   ]
  },
  {
   "cell_type": "code",
   "execution_count": 22,
   "metadata": {},
   "outputs": [
    {
     "name": "stdout",
     "output_type": "stream",
     "text": [
      "ROC AUC = 0.8466423110659107\n"
     ]
    },
    {
     "data": {
      "image/png": "[encoded data removed]",
      "text/plain": [
       "<Figure size 432x288 with 1 Axes>"
      ]
     },
     "metadata": {
      "needs_background": "light"
     },
     "output_type": "display_data"
    }
   ],
   "source": [
    "print('ROC AUC =', roc_auc)\n",
    "plt.figure()\n",
    "lw = 2\n",
    "plt.plot(fpr,tpr,color='red',lw=lw,label='ROC Curve (area = %0.2f)'%roc_auc)\n",
    "plt.plot([0,1],[0,1],color='black',lw=lw,linestyle='--')\n",
    "plt.xlim([0.0, 1.0])\n",
    "plt.ylim([0.0, 1.05])\n",
    "plt.xlabel('FPR')\n",
    "plt.ylabel('TPR')\n",
    "plt.title('Logistic Regression ROC Curve')\n",
    "plt.legend(loc='lower right')\n",
    "plt.show()"
   ]
  },
  {
   "cell_type": "code",
   "execution_count": null,
   "metadata": {},
   "outputs": [],
   "source": []
  },
  {
   "cell_type": "code",
   "execution_count": null,
   "metadata": {},
   "outputs": [],
   "source": []
  },
  {
   "cell_type": "markdown",
   "metadata": {},
   "source": [
    "# RANDOM FOREST"
   ]
  },
  {
   "cell_type": "code",
   "execution_count": 23,
   "metadata": {},
   "outputs": [],
   "source": [
    "#training data set using random forest without any hyper parameter tuning\n",
    "from sklearn.ensemble import RandomForestClassifier"
   ]
  },
  {
   "cell_type": "markdown",
   "metadata": {},
   "source": [
    "#### building model with normal data without any hyper parameter tuning."
   ]
  },
  {
   "cell_type": "code",
   "execution_count": 24,
   "metadata": {},
   "outputs": [
    {
     "name": "stdout",
     "output_type": "stream",
     "text": [
      "confision metris : \n",
      " [[ 3990  4593]\n",
      " [ 1312 59271]]\n",
      "classification report  \n",
      "               precision    recall  f1-score   support\n",
      "\n",
      "           0       0.75      0.46      0.57      8583\n",
      "           1       0.93      0.98      0.95     60583\n",
      "\n",
      "    accuracy                           0.91     69166\n",
      "   macro avg       0.84      0.72      0.76     69166\n",
      "weighted avg       0.91      0.91      0.91     69166\n",
      "\n",
      "accuracy score:  \n",
      " 0.9146256831391146\n"
     ]
    }
   ],
   "source": [
    "rf_class1 = RandomForestClassifier()\n",
    "rf_model1 = rf_class1.fit(X_train,y_train)\n",
    "rf_pred1 = rf_class1.predict(X_test)\n",
    "rf_CM1 = confusion_matrix(y_test,rf_pred1)\n",
    "rf_CR1 = classification_report(y_test,rf_pred1)\n",
    "rf_acc1 = accuracy_score(y_test,rf_pred1)\n",
    "\n",
    "print('confision metris :', '\\n', rf_CM1)\n",
    "print('classification report ', '\\n', rf_CR1)\n",
    "print('accuracy score: ', '\\n' , rf_acc1)"
   ]
  },
  {
   "cell_type": "markdown",
   "metadata": {},
   "source": [
    "#### with using random forest classifier we are getting better model performance than of the Logistic regression. lets check model performance with applying hyper parameter tuning."
   ]
  },
  {
   "cell_type": "code",
   "execution_count": 25,
   "metadata": {},
   "outputs": [],
   "source": [
    "# RandomForestClassifier()\n",
    "grid_param = {'criterion':['gini','entropy'],'max_features':['auto', 'sqrt', 'log2']}\n",
    "cv = KFold(n_splits=3,shuffle=False,random_state=None)"
   ]
  },
  {
   "cell_type": "code",
   "execution_count": 26,
   "metadata": {},
   "outputs": [],
   "source": [
    "rf_clf = GridSearchCV(RandomForestClassifier(),grid_param,cv=cv,n_jobs=-1,scoring='f1_weighted')"
   ]
  },
  {
   "cell_type": "code",
   "execution_count": 27,
   "metadata": {},
   "outputs": [
    {
     "data": {
      "text/plain": [
       "GridSearchCV(cv=KFold(n_splits=3, random_state=None, shuffle=False),\n",
       "             estimator=RandomForestClassifier(), n_jobs=-1,\n",
       "             param_grid={'criterion': ['gini', 'entropy'],\n",
       "                         'max_features': ['auto', 'sqrt', 'log2']},\n",
       "             scoring='f1_weighted')"
      ]
     },
     "execution_count": 27,
     "metadata": {},
     "output_type": "execute_result"
    }
   ],
   "source": [
    "rf_clf.fit(X_train,y_train)"
   ]
  },
  {
   "cell_type": "code",
   "execution_count": 28,
   "metadata": {},
   "outputs": [
    {
     "data": {
      "text/plain": [
       "{'criterion': 'gini', 'max_features': 'auto'}"
      ]
     },
     "execution_count": 28,
     "metadata": {},
     "output_type": "execute_result"
    }
   ],
   "source": [
    "rf_clf.best_params_"
   ]
  },
  {
   "cell_type": "code",
   "execution_count": 29,
   "metadata": {},
   "outputs": [
    {
     "name": "stdout",
     "output_type": "stream",
     "text": [
      "confision metris : \n",
      " [[ 3967  4616]\n",
      " [ 1309 59274]]\n",
      "classification report  \n",
      "               precision    recall  f1-score   support\n",
      "\n",
      "           0       0.75      0.46      0.57      8583\n",
      "           1       0.93      0.98      0.95     60583\n",
      "\n",
      "    accuracy                           0.91     69166\n",
      "   macro avg       0.84      0.72      0.76     69166\n",
      "weighted avg       0.91      0.91      0.91     69166\n",
      "\n",
      "accuracy score:  \n",
      " 0.9143365237255299\n"
     ]
    }
   ],
   "source": [
    "rf_class2 = RandomForestClassifier(criterion='gini',max_features='auto')\n",
    "rf_model2 = rf_class2.fit(X_train,y_train)\n",
    "rf_pred2 = rf_class2.predict(X_test)\n",
    "rf_CM2 = confusion_matrix(y_test,rf_pred2)\n",
    "rf_CR2 = classification_report(y_test,rf_pred2)\n",
    "rf_acc2 = accuracy_score(y_test,rf_pred2)\n",
    "\n",
    "print('confision metris :', '\\n', rf_CM2)\n",
    "print('classification report ', '\\n', rf_CR2)\n",
    "print('accuracy score: ', '\\n' , rf_acc2)"
   ]
  },
  {
   "cell_type": "markdown",
   "metadata": {},
   "source": [
    "#### with hyper parameter tuning we see no diff in model performance, however there are difference in the confusion matrix, but the overall score is same"
   ]
  },
  {
   "cell_type": "markdown",
   "metadata": {},
   "source": [
    "### Building a random forest classifier model using over sampling technique"
   ]
  },
  {
   "cell_type": "code",
   "execution_count": 30,
   "metadata": {},
   "outputs": [
    {
     "data": {
      "text/plain": [
       "Counter({1: 122848, 0: 17579})"
      ]
     },
     "execution_count": 30,
     "metadata": {},
     "output_type": "execute_result"
    }
   ],
   "source": [
    "#trying with over sampling\n",
    "from imblearn.over_sampling import RandomOverSampler\n",
    "from collections import Counter\n",
    "Counter(y_train)"
   ]
  },
  {
   "cell_type": "code",
   "execution_count": 31,
   "metadata": {},
   "outputs": [
    {
     "name": "stdout",
     "output_type": "stream",
     "text": [
      " the number of classes before samplingCounter({1: 122848, 0: 17579})\n",
      " the number of classes after samplingCounter({1: 122848, 0: 49139})\n"
     ]
    }
   ],
   "source": [
    "os = RandomOverSampler(.4)\n",
    "X_train_os,y_train_os = os.fit_sample(X_train,y_train)\n",
    "print(' the number of classes before sampling{}'.format(Counter(y_train)))\n",
    "print(' the number of classes after sampling{}'.format(Counter(y_train_os)))"
   ]
  },
  {
   "cell_type": "code",
   "execution_count": 32,
   "metadata": {},
   "outputs": [
    {
     "name": "stdout",
     "output_type": "stream",
     "text": [
      "confision metris : \n",
      " [[ 4461  4122]\n",
      " [ 1899 58684]]\n",
      "classification report  \n",
      "               precision    recall  f1-score   support\n",
      "\n",
      "           0       0.70      0.52      0.60      8583\n",
      "           1       0.93      0.97      0.95     60583\n",
      "\n",
      "    accuracy                           0.91     69166\n",
      "   macro avg       0.82      0.74      0.77     69166\n",
      "weighted avg       0.91      0.91      0.91     69166\n",
      "\n",
      "accuracy score:  \n",
      " 0.9129485585403233\n"
     ]
    }
   ],
   "source": [
    "rf_model3 = rf_class2.fit(X_train_os,y_train_os)\n",
    "rf_pred3 = rf_class2.predict(X_test)\n",
    "rf_CM3 = confusion_matrix(y_test,rf_pred3)\n",
    "rf_CR3 = classification_report(y_test,rf_pred3)\n",
    "rf_acc3 = accuracy_score(y_test,rf_pred3)\n",
    "\n",
    "print('confision metris :', '\\n', rf_CM3)\n",
    "print('classification report ', '\\n', rf_CR3)\n",
    "print('accuracy score: ', '\\n' , rf_acc3)"
   ]
  },
  {
   "cell_type": "markdown",
   "metadata": {},
   "source": [
    "#### using sampling technique we are getting better results, even with unbalanced data we are able to train class 0 very well."
   ]
  },
  {
   "cell_type": "markdown",
   "metadata": {},
   "source": [
    "### ROC_AUC curve RANDOM FOREST"
   ]
  },
  {
   "cell_type": "code",
   "execution_count": 33,
   "metadata": {},
   "outputs": [],
   "source": [
    "rf_prob_pred = rf_class2.predict_proba(X_test)"
   ]
  },
  {
   "cell_type": "code",
   "execution_count": 34,
   "metadata": {},
   "outputs": [
    {
     "name": "stdout",
     "output_type": "stream",
     "text": [
      "ROC AUC = 0.9100461379871714\n"
     ]
    },
    {
     "data": {
      "image/png": "[encoded data removed]",
      "text/plain": [
       "<Figure size 432x288 with 1 Axes>"
      ]
     },
     "metadata": {
      "needs_background": "light"
     },
     "output_type": "display_data"
    }
   ],
   "source": [
    "#fpr = false positive rate\n",
    "#tpr = true positive rate\n",
    "#thresholds we set\n",
    "\n",
    "fpr,tpr,thresholds = roc_curve(y_test,rf_prob_pred[:,1])\n",
    "roc_auc = roc_auc_score(y_test,rf_prob_pred[:,1])\n",
    "print('ROC AUC =', roc_auc)\n",
    "plt.figure()\n",
    "lw = 2\n",
    "plt.plot(fpr,tpr,color='red',lw=lw,label='ROC Curve (area = %0.2f)'%roc_auc)\n",
    "plt.plot([0,1],[0,1],color='black',lw=lw,linestyle='--')\n",
    "plt.xlim([0.0, 1.0])\n",
    "plt.ylim([0.0, 1.05])\n",
    "plt.xlabel('FPR')\n",
    "plt.ylabel('TPR')\n",
    "plt.title('ROC Curve Random Forest')\n",
    "plt.legend(loc='lower right')\n",
    "plt.show()"
   ]
  },
  {
   "cell_type": "code",
   "execution_count": null,
   "metadata": {},
   "outputs": [],
   "source": []
  },
  {
   "cell_type": "markdown",
   "metadata": {},
   "source": [
    "# KNN (K-nearest neighbor)"
   ]
  },
  {
   "cell_type": "code",
   "execution_count": 35,
   "metadata": {},
   "outputs": [],
   "source": [
    "from sklearn.neighbors import KNeighborsClassifier"
   ]
  },
  {
   "cell_type": "code",
   "execution_count": 36,
   "metadata": {},
   "outputs": [],
   "source": [
    "#setting grid search parameter for hyper tuning\n",
    "param={'n_neighbors':np.arange(5,30),'weights':['uniform','distance']}\n",
    "Knn_clf=GridSearchCV(KNeighborsClassifier(),param,cv=3,scoring='f1_weighted',n_jobs=-1)"
   ]
  },
  {
   "cell_type": "code",
   "execution_count": 37,
   "metadata": {},
   "outputs": [
    {
     "data": {
      "text/plain": [
       "GridSearchCV(cv=3, estimator=KNeighborsClassifier(), n_jobs=-1,\n",
       "             param_grid={'n_neighbors': array([ 5,  6,  7,  8,  9, 10, 11, 12, 13, 14, 15, 16, 17, 18, 19, 20, 21,\n",
       "       22, 23, 24, 25, 26, 27, 28, 29]),\n",
       "                         'weights': ['uniform', 'distance']},\n",
       "             scoring='f1_weighted')"
      ]
     },
     "execution_count": 37,
     "metadata": {},
     "output_type": "execute_result"
    }
   ],
   "source": [
    "Knn_clf.fit(X_train,y_train)"
   ]
  },
  {
   "cell_type": "code",
   "execution_count": 38,
   "metadata": {},
   "outputs": [
    {
     "data": {
      "text/plain": [
       "{'n_neighbors': 19, 'weights': 'distance'}"
      ]
     },
     "execution_count": 38,
     "metadata": {},
     "output_type": "execute_result"
    }
   ],
   "source": [
    "Knn_clf.best_params_"
   ]
  },
  {
   "cell_type": "code",
   "execution_count": 39,
   "metadata": {},
   "outputs": [
    {
     "name": "stdout",
     "output_type": "stream",
     "text": [
      "confision metris : \n",
      " [[ 3014  5569]\n",
      " [ 1712 58871]]\n",
      "classification report  \n",
      "               precision    recall  f1-score   support\n",
      "\n",
      "           0       0.64      0.35      0.45      8583\n",
      "           1       0.91      0.97      0.94     60583\n",
      "\n",
      "    accuracy                           0.89     69166\n",
      "   macro avg       0.78      0.66      0.70     69166\n",
      "weighted avg       0.88      0.89      0.88     69166\n",
      "\n",
      "accuracy score:  \n",
      " 0.8947315154844866\n"
     ]
    }
   ],
   "source": [
    "knn1 = KNeighborsClassifier(n_neighbors=19,weights='distance')\n",
    "knn_model1 = knn1.fit(X_train,y_train)\n",
    "knn_pred1 = knn1.predict(X_test)\n",
    "knn_CM1 = confusion_matrix(y_test,knn_pred1)\n",
    "knn_CR1 = classification_report(y_test,knn_pred1)\n",
    "knn_acc1 = accuracy_score(y_test,knn_pred1)\n",
    "\n",
    "print('confision metris :', '\\n', knn_CM1)\n",
    "print('classification report ', '\\n', knn_CR1)\n",
    "print('accuracy score: ', '\\n' , knn_acc1)"
   ]
  },
  {
   "cell_type": "code",
   "execution_count": 40,
   "metadata": {},
   "outputs": [],
   "source": [
    "#trying with oversampling data"
   ]
  },
  {
   "cell_type": "code",
   "execution_count": 41,
   "metadata": {},
   "outputs": [
    {
     "name": "stdout",
     "output_type": "stream",
     "text": [
      "confision metris : \n",
      " [[ 4795  3788]\n",
      " [ 6248 54335]]\n",
      "classification report  \n",
      "               precision    recall  f1-score   support\n",
      "\n",
      "           0       0.43      0.56      0.49      8583\n",
      "           1       0.93      0.90      0.92     60583\n",
      "\n",
      "    accuracy                           0.85     69166\n",
      "   macro avg       0.68      0.73      0.70     69166\n",
      "weighted avg       0.87      0.85      0.86     69166\n",
      "\n",
      "accuracy score:  \n",
      " 0.854899806263193\n"
     ]
    }
   ],
   "source": [
    "knn1 = KNeighborsClassifier(n_neighbors=19,weights='distance')\n",
    "knn_model2 = knn1.fit(X_train_os,y_train_os)\n",
    "knn_pred2 = knn1.predict(X_test)\n",
    "knn_CM2 = confusion_matrix(y_test,knn_pred2)\n",
    "knn_CR2 = classification_report(y_test,knn_pred2)\n",
    "knn_acc2 = accuracy_score(y_test,knn_pred2)\n",
    "\n",
    "print('confision metris :', '\\n', knn_CM2)\n",
    "print('classification report ', '\\n', knn_CR2)\n",
    "print('accuracy score: ', '\\n' , knn_acc2)"
   ]
  },
  {
   "cell_type": "markdown",
   "metadata": {},
   "source": [
    "#### with K nearest neighbor we see that the model performance is better than the Logistic regression but not as good as Random Forest classifier."
   ]
  },
  {
   "cell_type": "code",
   "execution_count": null,
   "metadata": {},
   "outputs": [],
   "source": []
  },
  {
   "cell_type": "markdown",
   "metadata": {},
   "source": [
    "# DECISION TREE"
   ]
  },
  {
   "cell_type": "code",
   "execution_count": 42,
   "metadata": {},
   "outputs": [],
   "source": [
    "from sklearn.tree import DecisionTreeClassifier\n",
    "from sklearn.model_selection import RandomizedSearchCV"
   ]
  },
  {
   "cell_type": "code",
   "execution_count": 43,
   "metadata": {},
   "outputs": [],
   "source": [
    "#grid param for grid search cv\n",
    "param={'max_depth':np.arange(1,50),'criterion':['entropy','gini'],'min_samples_leaf':np.arange(3,20),'max_features':[\"auto\", \"sqrt\", \"log2\"]}\n",
    "dt_clf=RandomizedSearchCV(DecisionTreeClassifier(),param,cv=3,scoring='f1_weighted')"
   ]
  },
  {
   "cell_type": "code",
   "execution_count": 44,
   "metadata": {},
   "outputs": [
    {
     "data": {
      "text/plain": [
       "RandomizedSearchCV(cv=3, estimator=DecisionTreeClassifier(),\n",
       "                   param_distributions={'criterion': ['entropy', 'gini'],\n",
       "                                        'max_depth': array([ 1,  2,  3,  4,  5,  6,  7,  8,  9, 10, 11, 12, 13, 14, 15, 16, 17,\n",
       "       18, 19, 20, 21, 22, 23, 24, 25, 26, 27, 28, 29, 30, 31, 32, 33, 34,\n",
       "       35, 36, 37, 38, 39, 40, 41, 42, 43, 44, 45, 46, 47, 48, 49]),\n",
       "                                        'max_features': ['auto', 'sqrt',\n",
       "                                                         'log2'],\n",
       "                                        'min_samples_leaf': array([ 3,  4,  5,  6,  7,  8,  9, 10, 11, 12, 13, 14, 15, 16, 17, 18, 19])},\n",
       "                   scoring='f1_weighted')"
      ]
     },
     "execution_count": 44,
     "metadata": {},
     "output_type": "execute_result"
    }
   ],
   "source": [
    "dt_clf.fit(X_train,y_train)"
   ]
  },
  {
   "cell_type": "code",
   "execution_count": 45,
   "metadata": {},
   "outputs": [
    {
     "data": {
      "text/plain": [
       "{'min_samples_leaf': 19,\n",
       " 'max_features': 'auto',\n",
       " 'max_depth': 38,\n",
       " 'criterion': 'gini'}"
      ]
     },
     "execution_count": 45,
     "metadata": {},
     "output_type": "execute_result"
    }
   ],
   "source": [
    "dt_clf.best_params_"
   ]
  },
  {
   "cell_type": "code",
   "execution_count": 45,
   "metadata": {},
   "outputs": [
    {
     "name": "stdout",
     "output_type": "stream",
     "text": [
      "confision metris : \n",
      " [[ 3796  4787]\n",
      " [ 1847 58736]]\n",
      "classification report  \n",
      "               precision    recall  f1-score   support\n",
      "\n",
      "           0       0.67      0.44      0.53      8583\n",
      "           1       0.92      0.97      0.95     60583\n",
      "\n",
      "    accuracy                           0.90     69166\n",
      "   macro avg       0.80      0.71      0.74     69166\n",
      "weighted avg       0.89      0.90      0.90     69166\n",
      "\n",
      "accuracy score:  \n",
      " 0.904085822513952\n"
     ]
    }
   ],
   "source": [
    "#building model\n",
    "dt1 = DecisionTreeClassifier(min_samples_leaf=19,max_features='auto',max_depth=38,criterion='gini')\n",
    "dt_model1 = dt1.fit(X_train,y_train)\n",
    "dt_pred1 = dt1.predict(X_test)\n",
    "dt_CM1 = confusion_matrix(y_test,dt_pred1)\n",
    "dt_CR1 = classification_report(y_test,dt_pred1)\n",
    "dt_acc1 = accuracy_score(y_test,dt_pred1)\n",
    "\n",
    "print('confision metris :', '\\n', dt_CM1)\n",
    "print('classification report ', '\\n', dt_CR1)\n",
    "print('accuracy score: ', '\\n' , dt_acc1)"
   ]
  },
  {
   "cell_type": "code",
   "execution_count": 46,
   "metadata": {},
   "outputs": [
    {
     "data": {
      "text/plain": [
       "{'min_samples_leaf': 19,\n",
       " 'max_features': 'log2',\n",
       " 'max_depth': 22,\n",
       " 'criterion': 'gini'}"
      ]
     },
     "execution_count": 46,
     "metadata": {},
     "output_type": "execute_result"
    }
   ],
   "source": [
    "#building model with scaled values.\n",
    "dt_clf.fit(X_train_sc,y_train)\n",
    "dt_clf.best_params_"
   ]
  },
  {
   "cell_type": "code",
   "execution_count": 47,
   "metadata": {},
   "outputs": [
    {
     "name": "stdout",
     "output_type": "stream",
     "text": [
      "confision metris : \n",
      " [[ 4117  4466]\n",
      " [ 1944 58639]]\n",
      "classification report  \n",
      "               precision    recall  f1-score   support\n",
      "\n",
      "           0       0.68      0.48      0.56      8583\n",
      "           1       0.93      0.97      0.95     60583\n",
      "\n",
      "    accuracy                           0.91     69166\n",
      "   macro avg       0.80      0.72      0.76     69166\n",
      "weighted avg       0.90      0.91      0.90     69166\n",
      "\n",
      "accuracy score:  \n",
      " 0.9073244079461007\n"
     ]
    }
   ],
   "source": [
    "#model with scaled values\n",
    "dt2 = DecisionTreeClassifier(min_samples_leaf=19,max_features='log2',max_depth=22,criterion='gini')\n",
    "dt_model2 = dt2.fit(X_train_sc,y_train)\n",
    "dt_pred2 = dt2.predict(X_test_sc)\n",
    "dt_CM2 = confusion_matrix(y_test,dt_pred2)\n",
    "dt_CR2 = classification_report(y_test,dt_pred2)\n",
    "dt_acc2 = accuracy_score(y_test,dt_pred2)\n",
    "\n",
    "print('confision metris :', '\\n', dt_CM2)\n",
    "print('classification report ', '\\n', dt_CR2)\n",
    "print('accuracy score: ', '\\n' , dt_acc2)"
   ]
  },
  {
   "cell_type": "code",
   "execution_count": 48,
   "metadata": {},
   "outputs": [
    {
     "name": "stdout",
     "output_type": "stream",
     "text": [
      "confision metris : \n",
      " [[ 5331  3252]\n",
      " [ 6298 54285]]\n",
      "classification report  \n",
      "               precision    recall  f1-score   support\n",
      "\n",
      "           0       0.46      0.62      0.53      8583\n",
      "           1       0.94      0.90      0.92     60583\n",
      "\n",
      "    accuracy                           0.86     69166\n",
      "   macro avg       0.70      0.76      0.72     69166\n",
      "weighted avg       0.88      0.86      0.87     69166\n",
      "\n",
      "accuracy score:  \n",
      " 0.8619263800133014\n"
     ]
    }
   ],
   "source": [
    "#model with using over sampling technique\n",
    "dt3 = DecisionTreeClassifier(min_samples_leaf=16,max_features='auto',max_depth=38,criterion='entropy')\n",
    "dt_model3 = dt3.fit(X_train_os,y_train_os)\n",
    "dt_pred3 = dt3.predict(X_test)\n",
    "dt_CM3 = confusion_matrix(y_test,dt_pred3)\n",
    "dt_CR3 = classification_report(y_test,dt_pred3)\n",
    "dt_acc3 = accuracy_score(y_test,dt_pred3)\n",
    "\n",
    "print('confision metris :', '\\n', dt_CM3)\n",
    "print('classification report ', '\\n', dt_CR3)\n",
    "print('accuracy score: ', '\\n' , dt_acc3)"
   ]
  },
  {
   "cell_type": "markdown",
   "metadata": {},
   "source": [
    "#### Decision tree model is also working fine with this imbalanced data set without any sampling technique, however it is not giving us better score than of Random Forest Classifier"
   ]
  },
  {
   "cell_type": "code",
   "execution_count": null,
   "metadata": {},
   "outputs": [],
   "source": []
  },
  {
   "cell_type": "markdown",
   "metadata": {},
   "source": [
    "# Guassian NB"
   ]
  },
  {
   "cell_type": "code",
   "execution_count": 49,
   "metadata": {},
   "outputs": [],
   "source": [
    "from sklearn.naive_bayes import GaussianNB"
   ]
  },
  {
   "cell_type": "code",
   "execution_count": 50,
   "metadata": {},
   "outputs": [],
   "source": [
    "gnb = GaussianNB()\n",
    "gn_model1 = gnb.fit(X_train,y_train)\n",
    "gn_pred1 = gnb.predict(X_test)"
   ]
  },
  {
   "cell_type": "code",
   "execution_count": 51,
   "metadata": {},
   "outputs": [
    {
     "name": "stdout",
     "output_type": "stream",
     "text": [
      "confision metris : \n",
      " [[ 6493  2090]\n",
      " [14581 46002]]\n",
      "classification report  \n",
      "               precision    recall  f1-score   support\n",
      "\n",
      "           0       0.31      0.76      0.44      8583\n",
      "           1       0.96      0.76      0.85     60583\n",
      "\n",
      "    accuracy                           0.76     69166\n",
      "   macro avg       0.63      0.76      0.64     69166\n",
      "weighted avg       0.88      0.76      0.80     69166\n",
      "\n",
      "accuracy score:  \n",
      " 0.7589711708064656\n"
     ]
    }
   ],
   "source": [
    "gn_CM1 = confusion_matrix(y_test,gn_pred1)\n",
    "gn_CR1 = classification_report(y_test,gn_pred1)\n",
    "gn_acc1 = accuracy_score(y_test,gn_pred1)\n",
    "\n",
    "print('confision metris :', '\\n', gn_CM1)\n",
    "print('classification report ', '\\n', gn_CR1)\n",
    "print('accuracy score: ', '\\n' , gn_acc1)"
   ]
  },
  {
   "cell_type": "code",
   "execution_count": null,
   "metadata": {},
   "outputs": [],
   "source": []
  },
  {
   "cell_type": "code",
   "execution_count": null,
   "metadata": {},
   "outputs": [],
   "source": []
  },
  {
   "cell_type": "code",
   "execution_count": 52,
   "metadata": {},
   "outputs": [],
   "source": [
    "#setting models with their respective parameters for comparison of model performance\n",
    "LR = LogisticRegression(penalty='l2',C=0.1)\n",
    "RFC = RandomForestClassifier(criterion='entropy',max_features='auto')\n",
    "KNN = KNeighborsClassifier(n_neighbors=19,weights='distance')\n",
    "DT = DecisionTreeClassifier(min_samples_leaf=16,max_features='log2',max_depth=39,criterion='entropy')\n",
    "GNB = GaussianNB()"
   ]
  },
  {
   "cell_type": "code",
   "execution_count": 53,
   "metadata": {},
   "outputs": [],
   "source": [
    "models = [LR,RFC,KNN,DT,GNB]\n",
    "name_of_model=['Logistic Regression','Random Forest Classification','KNearest neighbor','Decision Tree','GaussianNB']"
   ]
  },
  {
   "cell_type": "code",
   "execution_count": 54,
   "metadata": {},
   "outputs": [],
   "source": [
    "mean_score = []\n",
    "for model in models:\n",
    "    cv = KFold(n_splits=5,shuffle=False,random_state=1)\n",
    "    cross_val = cross_val_score(model,X_train,y_train,cv=cv, scoring='f1_weighted',n_jobs=-1)\n",
    "    mean_score.append(cross_val.mean())"
   ]
  },
  {
   "cell_type": "code",
   "execution_count": 55,
   "metadata": {},
   "outputs": [
    {
     "data": {
      "text/html": [
       "<div>\n",
       "<style scoped>\n",
       "    .dataframe tbody tr th:only-of-type {\n",
       "        vertical-align: middle;\n",
       "    }\n",
       "\n",
       "    .dataframe tbody tr th {\n",
       "        vertical-align: top;\n",
       "    }\n",
       "\n",
       "    .dataframe thead th {\n",
       "        text-align: right;\n",
       "    }\n",
       "</style>\n",
       "<table border=\"1\" class=\"dataframe\">\n",
       "  <thead>\n",
       "    <tr style=\"text-align: right;\">\n",
       "      <th></th>\n",
       "      <th>name</th>\n",
       "      <th>Mean_score</th>\n",
       "    </tr>\n",
       "  </thead>\n",
       "  <tbody>\n",
       "    <tr>\n",
       "      <th>0</th>\n",
       "      <td>Logistic Regression</td>\n",
       "      <td>0.818364</td>\n",
       "    </tr>\n",
       "    <tr>\n",
       "      <th>1</th>\n",
       "      <td>Random Forest Classification</td>\n",
       "      <td>0.903008</td>\n",
       "    </tr>\n",
       "    <tr>\n",
       "      <th>2</th>\n",
       "      <td>KNearest neighbor</td>\n",
       "      <td>0.879245</td>\n",
       "    </tr>\n",
       "    <tr>\n",
       "      <th>3</th>\n",
       "      <td>Decision Tree</td>\n",
       "      <td>0.892754</td>\n",
       "    </tr>\n",
       "    <tr>\n",
       "      <th>4</th>\n",
       "      <td>GaussianNB</td>\n",
       "      <td>0.791799</td>\n",
       "    </tr>\n",
       "  </tbody>\n",
       "</table>\n",
       "</div>"
      ],
      "text/plain": [
       "                           name  Mean_score\n",
       "0           Logistic Regression    0.818364\n",
       "1  Random Forest Classification    0.903008\n",
       "2             KNearest neighbor    0.879245\n",
       "3                 Decision Tree    0.892754\n",
       "4                    GaussianNB    0.791799"
      ]
     },
     "execution_count": 55,
     "metadata": {},
     "output_type": "execute_result"
    }
   ],
   "source": [
    "model_score = pd.DataFrame({})\n",
    "model_score['name'] = name_of_model\n",
    "model_score['Mean_score'] = mean_score\n",
    "\n",
    "model_score"
   ]
  },
  {
   "cell_type": "code",
   "execution_count": 64,
   "metadata": {},
   "outputs": [],
   "source": [
    "import seaborn as sns\n",
    "import matplotlib.pyplot as plt"
   ]
  },
  {
   "cell_type": "code",
   "execution_count": 74,
   "metadata": {},
   "outputs": [
    {
     "data": {
      "image/png": "[encoded data removed]",
      "text/plain": [
       "<Figure size 504x288 with 1 Axes>"
      ]
     },
     "metadata": {
      "needs_background": "light"
     },
     "output_type": "display_data"
    }
   ],
   "source": [
    "plt.figure(figsize=(7,4))\n",
    "sns.countplot(x=model_score['Mean_score'],hue=model_score['name'])\n",
    "plt.xticks(rotation=90)\n",
    "plt.show()"
   ]
  },
  {
   "cell_type": "code",
   "execution_count": null,
   "metadata": {},
   "outputs": [],
   "source": []
  },
  {
   "cell_type": "markdown",
   "metadata": {},
   "source": [
    "### from all the models above Random Forest is performing well and giving better F1, percision, recall score. Random forest classifier works well with imbalanced data set my final model will be Random forest with over sampling technique"
   ]
  },
  {
   "cell_type": "code",
   "execution_count": 60,
   "metadata": {},
   "outputs": [
    {
     "name": "stdout",
     "output_type": "stream",
     "text": [
      "confision metris : \n",
      " [[ 4470  4113]\n",
      " [ 1884 58699]]\n",
      "classification report  \n",
      "               precision    recall  f1-score   support\n",
      "\n",
      "           0       0.70      0.52      0.60      8583\n",
      "           1       0.93      0.97      0.95     60583\n",
      "\n",
      "    accuracy                           0.91     69166\n",
      "   macro avg       0.82      0.74      0.77     69166\n",
      "weighted avg       0.91      0.91      0.91     69166\n",
      "\n",
      "accuracy score:  \n",
      " 0.913295549836625\n"
     ]
    }
   ],
   "source": [
    "#final model\n",
    "\n",
    "rf_model3 = rf_class2.fit(X_train_os,y_train_os)\n",
    "rf_pred3 = rf_class2.predict(X_test)\n",
    "rf_CM3 = confusion_matrix(y_test,rf_pred3)\n",
    "rf_CR3 = classification_report(y_test,rf_pred3)\n",
    "rf_acc3 = accuracy_score(y_test,rf_pred3)\n",
    "\n",
    "print('confision metris :', '\\n', rf_CM3)\n",
    "print('classification report ', '\\n', rf_CR3)\n",
    "print('accuracy score: ', '\\n' , rf_acc3)"
   ]
  },
  {
   "cell_type": "code",
   "execution_count": 61,
   "metadata": {},
   "outputs": [
    {
     "name": "stdout",
     "output_type": "stream",
     "text": [
      "ROC AUC = 0.909733673498488\n"
     ]
    },
    {
     "data": {
      "image/png": "[encoded data removed]",
      "text/plain": [
       "<Figure size 432x288 with 1 Axes>"
      ]
     },
     "metadata": {
      "needs_background": "light"
     },
     "output_type": "display_data"
    }
   ],
   "source": [
    "rf_prob_pred = rf_class2.predict_proba(X_test)\n",
    "#fpr = false positive rate\n",
    "#tpr = true positive rate\n",
    "#thresholds we set\n",
    "\n",
    "fpr,tpr,thresholds = roc_curve(y_test,rf_prob_pred[:,1])\n",
    "roc_auc = roc_auc_score(y_test,rf_prob_pred[:,1])\n",
    "print('ROC AUC =', roc_auc)\n",
    "plt.figure()\n",
    "lw = 2\n",
    "plt.plot(fpr,tpr,color='red',lw=lw,label='ROC Curve (area = %0.2f)'%roc_auc)\n",
    "plt.plot([0,1],[0,1],color='black',lw=lw,linestyle='--')\n",
    "plt.xlim([0.0, 1.0])\n",
    "plt.ylim([0.0, 1.05])\n",
    "plt.xlabel('FPR')\n",
    "plt.ylabel('TPR')\n",
    "plt.title('ROC Curve Random Forest')\n",
    "plt.legend(loc='lower right')\n",
    "plt.show()"
   ]
  },
  {
   "cell_type": "code",
   "execution_count": 78,
   "metadata": {},
   "outputs": [
    {
     "data": {
      "image/png": "[encoded data removed]",
      "text/plain": [
       "<Figure size 432x288 with 2 Axes>"
      ]
     },
     "metadata": {
      "needs_background": "light"
     },
     "output_type": "display_data"
    }
   ],
   "source": [
    "sns.heatmap(rf_CM3,annot=True, fmt='d')\n",
    "plt.ylabel('Actual')\n",
    "plt.xlabel('Predicted')\n",
    "plt.show()"
   ]
  },
  {
   "cell_type": "code",
   "execution_count": 62,
   "metadata": {},
   "outputs": [
    {
     "data": {
      "text/plain": [
       "['microcredit_rfc']"
      ]
     },
     "execution_count": 62,
     "metadata": {},
     "output_type": "execute_result"
    }
   ],
   "source": [
    "#saving the model\n",
    "import joblib\n",
    "joblib.dump(rf_class2,'microcredit_rfc')"
   ]
  },
  {
   "cell_type": "code",
   "execution_count": null,
   "metadata": {},
   "outputs": [],
   "source": []
  }
 ],
 "metadata": {
  "kernelspec": {
   "display_name": "Python 3",
   "language": "python",
   "name": "python3"
  },
  "language_info": {
   "codemirror_mode": {
    "name": "ipython",
    "version": 3
   },
   "file_extension": ".py",
   "mimetype": "text/x-python",
   "name": "python",
   "nbconvert_exporter": "python",
   "pygments_lexer": "ipython3",
   "version": "3.8.5"
  }
 },
 "nbformat": 4,
 "nbformat_minor": 4
}
